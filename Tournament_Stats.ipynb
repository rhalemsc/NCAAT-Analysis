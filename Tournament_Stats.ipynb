{
 "cells": [
  {
   "cell_type": "markdown",
   "id": "da72622d-73fd-4d0f-b85f-417bc86b8b97",
   "metadata": {
    "tags": []
   },
   "source": [
    "## Importing Data and Setup"
   ]
  },
  {
   "cell_type": "code",
   "execution_count": 1,
   "id": "e4f426df-c7ab-4213-9059-1586d1cbd399",
   "metadata": {},
   "outputs": [],
   "source": [
    "import sportsdataverse\n",
    "import pandas as pd\n",
    "import numpy as np\n",
    "import warnings\n",
    "import time\n",
    "from numpy.core.defchararray import find\n",
    "import seaborn as sns\n",
    "import matplotlib.pyplot as plt\n",
    "\n",
    "\n",
    "pd.set_option('display.float_format', lambda x: '%.2f' % x)\n",
    "\n",
    "warnings.simplefilter(action='ignore')\n",
    "pd.set_option('display.max_columns', None)\n",
    "pd.set_option(\"display.max.columns\", None)\n",
    "pd.set_option(\"display.precision\", 2)\n",
    "pd.set_option('display.width', 640)\n",
    "pd.set_option('display.max_rows', 1000)"
   ]
  },
  {
   "cell_type": "code",
   "execution_count": 2,
   "id": "4e5745a4-d498-48f2-bdc0-179445cde50d",
   "metadata": {},
   "outputs": [],
   "source": [
    "df_t = pd.read_csv('Tournament-Data.csv')"
   ]
  },
  {
   "cell_type": "code",
   "execution_count": 3,
   "id": "b84c9f2c-169a-4154-b2e2-857997d225dc",
   "metadata": {},
   "outputs": [],
   "source": [
    "df_t = df_t.rename(columns={'ROUND ':'Round'})\n",
    "\n",
    "df_t['Round'] = df_t['Round'].astype(\"category\")\n",
    "df_t['Round'] = df_t['Round'].cat.set_categories(['Play-In', \n",
    "                                                    'First Round', \n",
    "                                                    'Second Round', \n",
    "                                                    'Sweet 16', \n",
    "                                                    'Elite Eight', \n",
    "                                                    'Final Four', \n",
    "                                                    'National Championship'], ordered=True)"
   ]
  },
  {
   "cell_type": "code",
   "execution_count": 4,
   "id": "7c88258c-5f61-4a6d-8dba-ab72c418571d",
   "metadata": {},
   "outputs": [
    {
     "data": {
      "text/html": [
       "<div>\n",
       "<style scoped>\n",
       "    .dataframe tbody tr th:only-of-type {\n",
       "        vertical-align: middle;\n",
       "    }\n",
       "\n",
       "    .dataframe tbody tr th {\n",
       "        vertical-align: top;\n",
       "    }\n",
       "\n",
       "    .dataframe thead th {\n",
       "        text-align: right;\n",
       "    }\n",
       "</style>\n",
       "<table border=\"1\" class=\"dataframe\">\n",
       "  <thead>\n",
       "    <tr style=\"text-align: right;\">\n",
       "      <th></th>\n",
       "      <th>YEAR</th>\n",
       "      <th>Round</th>\n",
       "      <th>SEED 1</th>\n",
       "      <th>TEAM 1</th>\n",
       "      <th>SCORE 2</th>\n",
       "      <th>SEED 2</th>\n",
       "      <th>TEAM 2</th>\n",
       "      <th>SCORE</th>\n",
       "      <th>Upset</th>\n",
       "      <th>Upset Val</th>\n",
       "      <th>W_Team</th>\n",
       "      <th>W_Seed</th>\n",
       "      <th>L_Seed</th>\n",
       "      <th>W_Score</th>\n",
       "      <th>L_Score</th>\n",
       "      <th>Difference</th>\n",
       "      <th>LowerSeed</th>\n",
       "      <th>HigherSeed</th>\n",
       "    </tr>\n",
       "  </thead>\n",
       "  <tbody>\n",
       "    <tr>\n",
       "      <th>0</th>\n",
       "      <td>1998</td>\n",
       "      <td>First Round</td>\n",
       "      <td>1</td>\n",
       "      <td>Kansas</td>\n",
       "      <td>110</td>\n",
       "      <td>16</td>\n",
       "      <td>Prairie View</td>\n",
       "      <td>52</td>\n",
       "      <td>Not Upset</td>\n",
       "      <td>0</td>\n",
       "      <td>Kansas</td>\n",
       "      <td>1</td>\n",
       "      <td>16</td>\n",
       "      <td>110</td>\n",
       "      <td>52</td>\n",
       "      <td>58</td>\n",
       "      <td>1</td>\n",
       "      <td>16</td>\n",
       "    </tr>\n",
       "    <tr>\n",
       "      <th>1</th>\n",
       "      <td>2009</td>\n",
       "      <td>First Round</td>\n",
       "      <td>1</td>\n",
       "      <td>Connecticut</td>\n",
       "      <td>103</td>\n",
       "      <td>16</td>\n",
       "      <td>Chattanooga</td>\n",
       "      <td>47</td>\n",
       "      <td>Not Upset</td>\n",
       "      <td>0</td>\n",
       "      <td>Connecticut</td>\n",
       "      <td>1</td>\n",
       "      <td>16</td>\n",
       "      <td>103</td>\n",
       "      <td>47</td>\n",
       "      <td>56</td>\n",
       "      <td>1</td>\n",
       "      <td>16</td>\n",
       "    </tr>\n",
       "    <tr>\n",
       "      <th>2</th>\n",
       "      <td>1986</td>\n",
       "      <td>First Round</td>\n",
       "      <td>2</td>\n",
       "      <td>Syracuse</td>\n",
       "      <td>101</td>\n",
       "      <td>15</td>\n",
       "      <td>Brown</td>\n",
       "      <td>52</td>\n",
       "      <td>Not Upset</td>\n",
       "      <td>0</td>\n",
       "      <td>Syracuse</td>\n",
       "      <td>2</td>\n",
       "      <td>15</td>\n",
       "      <td>101</td>\n",
       "      <td>52</td>\n",
       "      <td>49</td>\n",
       "      <td>2</td>\n",
       "      <td>15</td>\n",
       "    </tr>\n",
       "    <tr>\n",
       "      <th>3</th>\n",
       "      <td>2013</td>\n",
       "      <td>First Round</td>\n",
       "      <td>4</td>\n",
       "      <td>Syracuse</td>\n",
       "      <td>81</td>\n",
       "      <td>13</td>\n",
       "      <td>Montana</td>\n",
       "      <td>34</td>\n",
       "      <td>Not Upset</td>\n",
       "      <td>0</td>\n",
       "      <td>Syracuse</td>\n",
       "      <td>4</td>\n",
       "      <td>13</td>\n",
       "      <td>81</td>\n",
       "      <td>34</td>\n",
       "      <td>47</td>\n",
       "      <td>4</td>\n",
       "      <td>13</td>\n",
       "    </tr>\n",
       "    <tr>\n",
       "      <th>4</th>\n",
       "      <td>2002</td>\n",
       "      <td>First Round</td>\n",
       "      <td>1</td>\n",
       "      <td>Duke</td>\n",
       "      <td>84</td>\n",
       "      <td>16</td>\n",
       "      <td>Winthrop</td>\n",
       "      <td>37</td>\n",
       "      <td>Not Upset</td>\n",
       "      <td>0</td>\n",
       "      <td>Duke</td>\n",
       "      <td>1</td>\n",
       "      <td>16</td>\n",
       "      <td>84</td>\n",
       "      <td>37</td>\n",
       "      <td>47</td>\n",
       "      <td>1</td>\n",
       "      <td>16</td>\n",
       "    </tr>\n",
       "  </tbody>\n",
       "</table>\n",
       "</div>"
      ],
      "text/plain": [
       "   YEAR         Round  SEED 1       TEAM 1  SCORE 2  SEED 2        TEAM 2  SCORE       Upset  Upset Val       W_Team  W_Seed  L_Seed  W_Score  L_Score  Difference  LowerSeed  HigherSeed\n",
       "0   1998  First Round       1       Kansas      110      16  Prairie View      52  Not Upset          0       Kansas       1      16      110       52          58          1          16\n",
       "1   2009  First Round       1  Connecticut      103      16   Chattanooga      47  Not Upset          0  Connecticut       1      16      103       47          56          1          16\n",
       "2   1986  First Round       2     Syracuse      101      15         Brown      52  Not Upset          0     Syracuse       2      15      101       52          49          2          15\n",
       "3   2013  First Round       4     Syracuse       81      13       Montana      34  Not Upset          0     Syracuse       4      13       81       34          47          4          13\n",
       "4   2002  First Round       1         Duke       84      16      Winthrop      37  Not Upset          0         Duke       1      16       84       37          47          1          16"
      ]
     },
     "execution_count": 4,
     "metadata": {},
     "output_type": "execute_result"
    }
   ],
   "source": [
    "df_t.head()"
   ]
  },
  {
   "cell_type": "markdown",
   "id": "6c67a282-06d6-4197-877f-9e9fb09fd91d",
   "metadata": {
    "tags": []
   },
   "source": [
    "## Upset Count by Seed Pair"
   ]
  },
  {
   "cell_type": "code",
   "execution_count": 7,
   "id": "cdcf37c2-5942-4e6f-a775-55a0a105291d",
   "metadata": {},
   "outputs": [],
   "source": [
    "df_round = df_t[df_t['Upset Val'] == 1].groupby(['LowerSeed', 'HigherSeed', 'Round']).agg(counts=('W_Team', 'count')).reset_index()\n",
    "df_round_total = df_t.groupby(['LowerSeed', 'HigherSeed', 'Round']).agg(counts=('W_Team', 'count')).reset_index()\n",
    "\n",
    "df_merged = df_round.merge(df_round_total, on=['LowerSeed', 'HigherSeed', 'Round'], how='inner')\n",
    "df_merged = df_merged.rename(columns={'counts_x':'Upsets', 'counts_y':'Total'})\n",
    "df_merged['UpsetRate'] = df_merged['Upsets']/df_merged['Total']"
   ]
  },
  {
   "cell_type": "code",
   "execution_count": 8,
   "id": "dc92c6f0-c4fe-4837-8ddb-9cabadcb1102",
   "metadata": {},
   "outputs": [
    {
     "ename": "ValueError",
     "evalue": "Index contains duplicate entries, cannot reshape",
     "output_type": "error",
     "traceback": [
      "\u001b[0;31m---------------------------------------------------------------------------\u001b[0m",
      "\u001b[0;31mValueError\u001b[0m                                Traceback (most recent call last)",
      "\u001b[0;32m/var/folders/95/n28jnbh13255bytfb9_q4jy40000gq/T/ipykernel_44552/1913671523.py\u001b[0m in \u001b[0;36m<module>\u001b[0;34m\u001b[0m\n\u001b[1;32m      1\u001b[0m \u001b[0mdf_htmp_count\u001b[0m \u001b[0;34m=\u001b[0m \u001b[0mdf_merged\u001b[0m\u001b[0;34m[\u001b[0m\u001b[0;34m[\u001b[0m\u001b[0;34m'LowerSeed'\u001b[0m\u001b[0;34m,\u001b[0m \u001b[0;34m'HigherSeed'\u001b[0m\u001b[0;34m,\u001b[0m \u001b[0;34m'Total'\u001b[0m\u001b[0;34m]\u001b[0m\u001b[0;34m]\u001b[0m\u001b[0;34m\u001b[0m\u001b[0;34m\u001b[0m\u001b[0m\n\u001b[1;32m      2\u001b[0m \u001b[0mdf_htmp_count\u001b[0m \u001b[0;34m=\u001b[0m \u001b[0mdf_htmp_count\u001b[0m\u001b[0;34m\u001b[0m\u001b[0;34m\u001b[0m\u001b[0m\n\u001b[0;32m----> 3\u001b[0;31m \u001b[0mdf_htmp_count\u001b[0m \u001b[0;34m=\u001b[0m \u001b[0mdf_htmp_count\u001b[0m\u001b[0;34m.\u001b[0m\u001b[0mpivot\u001b[0m\u001b[0;34m(\u001b[0m\u001b[0mindex\u001b[0m\u001b[0;34m=\u001b[0m\u001b[0;34m'LowerSeed'\u001b[0m\u001b[0;34m,\u001b[0m \u001b[0mcolumns\u001b[0m\u001b[0;34m=\u001b[0m\u001b[0;34m'HigherSeed'\u001b[0m\u001b[0;34m,\u001b[0m \u001b[0mvalues\u001b[0m\u001b[0;34m=\u001b[0m\u001b[0;34m'Total'\u001b[0m\u001b[0;34m)\u001b[0m\u001b[0;34m\u001b[0m\u001b[0;34m\u001b[0m\u001b[0m\n\u001b[0m",
      "\u001b[0;32m/Users/consulting/opt/anaconda3/lib/python3.9/site-packages/pandas/core/frame.py\u001b[0m in \u001b[0;36mpivot\u001b[0;34m(self, index, columns, values)\u001b[0m\n\u001b[1;32m   7883\u001b[0m         \u001b[0;32mfrom\u001b[0m \u001b[0mpandas\u001b[0m\u001b[0;34m.\u001b[0m\u001b[0mcore\u001b[0m\u001b[0;34m.\u001b[0m\u001b[0mreshape\u001b[0m\u001b[0;34m.\u001b[0m\u001b[0mpivot\u001b[0m \u001b[0;32mimport\u001b[0m \u001b[0mpivot\u001b[0m\u001b[0;34m\u001b[0m\u001b[0;34m\u001b[0m\u001b[0m\n\u001b[1;32m   7884\u001b[0m \u001b[0;34m\u001b[0m\u001b[0m\n\u001b[0;32m-> 7885\u001b[0;31m         \u001b[0;32mreturn\u001b[0m \u001b[0mpivot\u001b[0m\u001b[0;34m(\u001b[0m\u001b[0mself\u001b[0m\u001b[0;34m,\u001b[0m \u001b[0mindex\u001b[0m\u001b[0;34m=\u001b[0m\u001b[0mindex\u001b[0m\u001b[0;34m,\u001b[0m \u001b[0mcolumns\u001b[0m\u001b[0;34m=\u001b[0m\u001b[0mcolumns\u001b[0m\u001b[0;34m,\u001b[0m \u001b[0mvalues\u001b[0m\u001b[0;34m=\u001b[0m\u001b[0mvalues\u001b[0m\u001b[0;34m)\u001b[0m\u001b[0;34m\u001b[0m\u001b[0;34m\u001b[0m\u001b[0m\n\u001b[0m\u001b[1;32m   7886\u001b[0m \u001b[0;34m\u001b[0m\u001b[0m\n\u001b[1;32m   7887\u001b[0m     _shared_docs[\n",
      "\u001b[0;32m/Users/consulting/opt/anaconda3/lib/python3.9/site-packages/pandas/core/reshape/pivot.py\u001b[0m in \u001b[0;36mpivot\u001b[0;34m(data, index, columns, values)\u001b[0m\n\u001b[1;32m    518\u001b[0m         \u001b[0;32melse\u001b[0m\u001b[0;34m:\u001b[0m\u001b[0;34m\u001b[0m\u001b[0;34m\u001b[0m\u001b[0m\n\u001b[1;32m    519\u001b[0m             \u001b[0mindexed\u001b[0m \u001b[0;34m=\u001b[0m \u001b[0mdata\u001b[0m\u001b[0;34m.\u001b[0m\u001b[0m_constructor_sliced\u001b[0m\u001b[0;34m(\u001b[0m\u001b[0mdata\u001b[0m\u001b[0;34m[\u001b[0m\u001b[0mvalues\u001b[0m\u001b[0;34m]\u001b[0m\u001b[0;34m.\u001b[0m\u001b[0m_values\u001b[0m\u001b[0;34m,\u001b[0m \u001b[0mindex\u001b[0m\u001b[0;34m=\u001b[0m\u001b[0mmultiindex\u001b[0m\u001b[0;34m)\u001b[0m\u001b[0;34m\u001b[0m\u001b[0;34m\u001b[0m\u001b[0m\n\u001b[0;32m--> 520\u001b[0;31m     \u001b[0;32mreturn\u001b[0m \u001b[0mindexed\u001b[0m\u001b[0;34m.\u001b[0m\u001b[0munstack\u001b[0m\u001b[0;34m(\u001b[0m\u001b[0mcolumns_listlike\u001b[0m\u001b[0;34m)\u001b[0m\u001b[0;34m\u001b[0m\u001b[0;34m\u001b[0m\u001b[0m\n\u001b[0m\u001b[1;32m    521\u001b[0m \u001b[0;34m\u001b[0m\u001b[0m\n\u001b[1;32m    522\u001b[0m \u001b[0;34m\u001b[0m\u001b[0m\n",
      "\u001b[0;32m/Users/consulting/opt/anaconda3/lib/python3.9/site-packages/pandas/core/series.py\u001b[0m in \u001b[0;36munstack\u001b[0;34m(self, level, fill_value)\u001b[0m\n\u001b[1;32m   4155\u001b[0m         \u001b[0;32mfrom\u001b[0m \u001b[0mpandas\u001b[0m\u001b[0;34m.\u001b[0m\u001b[0mcore\u001b[0m\u001b[0;34m.\u001b[0m\u001b[0mreshape\u001b[0m\u001b[0;34m.\u001b[0m\u001b[0mreshape\u001b[0m \u001b[0;32mimport\u001b[0m \u001b[0munstack\u001b[0m\u001b[0;34m\u001b[0m\u001b[0;34m\u001b[0m\u001b[0m\n\u001b[1;32m   4156\u001b[0m \u001b[0;34m\u001b[0m\u001b[0m\n\u001b[0;32m-> 4157\u001b[0;31m         \u001b[0;32mreturn\u001b[0m \u001b[0munstack\u001b[0m\u001b[0;34m(\u001b[0m\u001b[0mself\u001b[0m\u001b[0;34m,\u001b[0m \u001b[0mlevel\u001b[0m\u001b[0;34m,\u001b[0m \u001b[0mfill_value\u001b[0m\u001b[0;34m)\u001b[0m\u001b[0;34m\u001b[0m\u001b[0;34m\u001b[0m\u001b[0m\n\u001b[0m\u001b[1;32m   4158\u001b[0m \u001b[0;34m\u001b[0m\u001b[0m\n\u001b[1;32m   4159\u001b[0m     \u001b[0;31m# ----------------------------------------------------------------------\u001b[0m\u001b[0;34m\u001b[0m\u001b[0;34m\u001b[0m\u001b[0m\n",
      "\u001b[0;32m/Users/consulting/opt/anaconda3/lib/python3.9/site-packages/pandas/core/reshape/reshape.py\u001b[0m in \u001b[0;36munstack\u001b[0;34m(obj, level, fill_value)\u001b[0m\n\u001b[1;32m    489\u001b[0m         \u001b[0;32mif\u001b[0m \u001b[0mis_1d_only_ea_dtype\u001b[0m\u001b[0;34m(\u001b[0m\u001b[0mobj\u001b[0m\u001b[0;34m.\u001b[0m\u001b[0mdtype\u001b[0m\u001b[0;34m)\u001b[0m\u001b[0;34m:\u001b[0m\u001b[0;34m\u001b[0m\u001b[0;34m\u001b[0m\u001b[0m\n\u001b[1;32m    490\u001b[0m             \u001b[0;32mreturn\u001b[0m \u001b[0m_unstack_extension_series\u001b[0m\u001b[0;34m(\u001b[0m\u001b[0mobj\u001b[0m\u001b[0;34m,\u001b[0m \u001b[0mlevel\u001b[0m\u001b[0;34m,\u001b[0m \u001b[0mfill_value\u001b[0m\u001b[0;34m)\u001b[0m\u001b[0;34m\u001b[0m\u001b[0;34m\u001b[0m\u001b[0m\n\u001b[0;32m--> 491\u001b[0;31m         unstacker = _Unstacker(\n\u001b[0m\u001b[1;32m    492\u001b[0m             \u001b[0mobj\u001b[0m\u001b[0;34m.\u001b[0m\u001b[0mindex\u001b[0m\u001b[0;34m,\u001b[0m \u001b[0mlevel\u001b[0m\u001b[0;34m=\u001b[0m\u001b[0mlevel\u001b[0m\u001b[0;34m,\u001b[0m \u001b[0mconstructor\u001b[0m\u001b[0;34m=\u001b[0m\u001b[0mobj\u001b[0m\u001b[0;34m.\u001b[0m\u001b[0m_constructor_expanddim\u001b[0m\u001b[0;34m\u001b[0m\u001b[0;34m\u001b[0m\u001b[0m\n\u001b[1;32m    493\u001b[0m         )\n",
      "\u001b[0;32m/Users/consulting/opt/anaconda3/lib/python3.9/site-packages/pandas/core/reshape/reshape.py\u001b[0m in \u001b[0;36m__init__\u001b[0;34m(self, index, level, constructor)\u001b[0m\n\u001b[1;32m    138\u001b[0m             )\n\u001b[1;32m    139\u001b[0m \u001b[0;34m\u001b[0m\u001b[0m\n\u001b[0;32m--> 140\u001b[0;31m         \u001b[0mself\u001b[0m\u001b[0;34m.\u001b[0m\u001b[0m_make_selectors\u001b[0m\u001b[0;34m(\u001b[0m\u001b[0;34m)\u001b[0m\u001b[0;34m\u001b[0m\u001b[0;34m\u001b[0m\u001b[0m\n\u001b[0m\u001b[1;32m    141\u001b[0m \u001b[0;34m\u001b[0m\u001b[0m\n\u001b[1;32m    142\u001b[0m     \u001b[0;34m@\u001b[0m\u001b[0mcache_readonly\u001b[0m\u001b[0;34m\u001b[0m\u001b[0;34m\u001b[0m\u001b[0m\n",
      "\u001b[0;32m/Users/consulting/opt/anaconda3/lib/python3.9/site-packages/pandas/core/reshape/reshape.py\u001b[0m in \u001b[0;36m_make_selectors\u001b[0;34m(self)\u001b[0m\n\u001b[1;32m    190\u001b[0m \u001b[0;34m\u001b[0m\u001b[0m\n\u001b[1;32m    191\u001b[0m         \u001b[0;32mif\u001b[0m \u001b[0mmask\u001b[0m\u001b[0;34m.\u001b[0m\u001b[0msum\u001b[0m\u001b[0;34m(\u001b[0m\u001b[0;34m)\u001b[0m \u001b[0;34m<\u001b[0m \u001b[0mlen\u001b[0m\u001b[0;34m(\u001b[0m\u001b[0mself\u001b[0m\u001b[0;34m.\u001b[0m\u001b[0mindex\u001b[0m\u001b[0;34m)\u001b[0m\u001b[0;34m:\u001b[0m\u001b[0;34m\u001b[0m\u001b[0;34m\u001b[0m\u001b[0m\n\u001b[0;32m--> 192\u001b[0;31m             \u001b[0;32mraise\u001b[0m \u001b[0mValueError\u001b[0m\u001b[0;34m(\u001b[0m\u001b[0;34m\"Index contains duplicate entries, cannot reshape\"\u001b[0m\u001b[0;34m)\u001b[0m\u001b[0;34m\u001b[0m\u001b[0;34m\u001b[0m\u001b[0m\n\u001b[0m\u001b[1;32m    193\u001b[0m \u001b[0;34m\u001b[0m\u001b[0m\n\u001b[1;32m    194\u001b[0m         \u001b[0mself\u001b[0m\u001b[0;34m.\u001b[0m\u001b[0mgroup_index\u001b[0m \u001b[0;34m=\u001b[0m \u001b[0mcomp_index\u001b[0m\u001b[0;34m\u001b[0m\u001b[0;34m\u001b[0m\u001b[0m\n",
      "\u001b[0;31mValueError\u001b[0m: Index contains duplicate entries, cannot reshape"
     ]
    }
   ],
   "source": [
    "df_htmp_count = df_merged[['LowerSeed', 'HigherSeed', 'Total']]\n",
    "df_htmp_count = df_htmp_count\n",
    "df_htmp_count = df_htmp_count.pivot(index='LowerSeed', columns='HigherSeed', values='Total')"
   ]
  },
  {
   "cell_type": "code",
   "execution_count": null,
   "id": "e9adccdc-f702-4052-80bb-22e86bf70270",
   "metadata": {},
   "outputs": [],
   "source": [
    "fig, ax = plt.subplots(figsize=(9,4)) \n",
    "sns.heatmap(data = df_htmp_count, cmap=\"mako_r\", annot=True, square=False).set_title('# Games Between Seeds')"
   ]
  },
  {
   "cell_type": "markdown",
   "id": "ed7c9d41-13f1-4346-a206-b275f303877f",
   "metadata": {},
   "source": [
    "#### Notes\n",
    "Here we are tabulating the number of games played between different seeds. <br>\n",
    "For example, we can read this plot as there are a total of 3 games between 7 and 15 seeds. <br>\n",
    "This plot gives us a sense of the sample size for each matchup. <br>\n",
    "Do we really want to draw conclusions about a particular matchup when it has only occurred 3 times in the past?"
   ]
  },
  {
   "cell_type": "markdown",
   "id": "ea4bf805-a9ca-4e62-8637-9004ed71da25",
   "metadata": {},
   "source": [
    "## Upset Rate Heatmap"
   ]
  },
  {
   "cell_type": "code",
   "execution_count": 152,
   "id": "8456de13-a972-42ba-8961-091841bcbe32",
   "metadata": {},
   "outputs": [],
   "source": [
    "df_upsets = df_t[df_t['Upset Val'] == 1].groupby(['LowerSeed', 'HigherSeed']).agg(counts=('W_Team', 'count')).reset_index()\n",
    "df_total = df_t.groupby(['LowerSeed', 'HigherSeed']).agg(counts=('W_Team', 'count')).reset_index()"
   ]
  },
  {
   "cell_type": "code",
   "execution_count": 153,
   "id": "caf16c39-ac40-4b04-9a95-4453cc225c6a",
   "metadata": {},
   "outputs": [],
   "source": [
    "df_merged = df_upsets.merge(df_total, on=['LowerSeed', 'HigherSeed'], how='inner')"
   ]
  },
  {
   "cell_type": "code",
   "execution_count": 154,
   "id": "2128c7da-148d-443f-beba-1f20fc266a32",
   "metadata": {},
   "outputs": [],
   "source": [
    "df_merged = df_merged.rename(columns={'counts_x':'Upsets', 'counts_y':'Total'})"
   ]
  },
  {
   "cell_type": "code",
   "execution_count": 155,
   "id": "97742fe2-ce30-4f72-bb0c-bc57c0b05226",
   "metadata": {},
   "outputs": [],
   "source": [
    "df_merged['UpsetRate'] = df_merged['Upsets']/df_merged['Total']"
   ]
  },
  {
   "cell_type": "code",
   "execution_count": 156,
   "id": "be275171-408e-46ce-9e30-4bde254a2f7f",
   "metadata": {},
   "outputs": [
    {
     "data": {
      "text/plain": [
       "Text(0.5, 1.0, '% of Games Resulting in Upset By Seed')"
      ]
     },
     "execution_count": 156,
     "metadata": {},
     "output_type": "execute_result"
    },
    {
     "data": {
      "image/png": "[encoded data removed]",
      "text/plain": [
       "<Figure size 900x400 with 2 Axes>"
      ]
     },
     "metadata": {},
     "output_type": "display_data"
    }
   ],
   "source": [
    "df_htmp = df_merged[df_merged['Total']>=6][['LowerSeed', 'HigherSeed', 'UpsetRate']]\n",
    "df_htmp = df_htmp[(df_htmp['LowerSeed'] < 12)\n",
    "                & (df_htmp['UpsetRate'] != 1)]\n",
    "df_htmp = df_htmp.pivot(index='LowerSeed', columns='HigherSeed', values='UpsetRate')\n",
    "\n",
    "fig, ax = plt.subplots(figsize=(9,4)) \n",
    "sns.heatmap(data = df_htmp, cmap=\"mako_r\", annot=True, fmt=\".2f\", square=False).set_title('% of Games Resulting in Upset By Seed')"
   ]
  },
  {
   "cell_type": "markdown",
   "id": "fbf5b02f-05d1-4c7f-a0d2-bab642fd7671",
   "metadata": {},
   "source": [
    "#### Notes:\n",
    "\n",
    "We are excluding rare matchups. For example, a 7-15 matchup is very rare and was excluded from the analysis. If such matchups were included, results may appear to be more significant then they actually are and would be misleading."
   ]
  },
  {
   "cell_type": "markdown",
   "id": "5cbbf318-9298-4227-8adb-0092ff54d620",
   "metadata": {},
   "source": [
    "## Upsets by Round"
   ]
  },
  {
   "cell_type": "code",
   "execution_count": 175,
   "id": "72ac01b6-08d8-4c61-8ed0-c1e82db28c41",
   "metadata": {},
   "outputs": [],
   "source": [
    "df_round = df_t[df_t['Upset Val'] == 1].groupby(['LowerSeed', 'HigherSeed', 'Round']).agg(counts=('W_Team', 'count')).reset_index()\n",
    "df_round_total = df_t.groupby(['LowerSeed', 'HigherSeed', 'Round']).agg(counts=('W_Team', 'count')).reset_index()\n",
    "\n",
    "df_merged_rt = df_round.merge(df_round_total, on=['LowerSeed', 'HigherSeed', 'Round'], how='inner')\n",
    "df_merged_rt = df_merged_rt.rename(columns={'counts_x':'Upsets', 'counts_y':'Total'})\n",
    "df_merged_rt['UpsetRate'] = df_merged_rt['Upsets']/df_merged_rt['Total']"
   ]
  },
  {
   "cell_type": "code",
   "execution_count": 176,
   "id": "a01065b8-af31-4e77-bc6a-bf05ee001077",
   "metadata": {},
   "outputs": [],
   "source": [
    "df_merged_rt['SeedMatchUp'] = df_merged_rt['LowerSeed'].astype(str) + '-' + df_merged_rt['HigherSeed'].astype(str)"
   ]
  },
  {
   "cell_type": "code",
   "execution_count": 177,
   "id": "2d1a1df0-59ff-4b75-b6de-fc6d1b976bec",
   "metadata": {},
   "outputs": [
    {
     "data": {
      "text/html": [
       "<div>\n",
       "<style scoped>\n",
       "    .dataframe tbody tr th:only-of-type {\n",
       "        vertical-align: middle;\n",
       "    }\n",
       "\n",
       "    .dataframe tbody tr th {\n",
       "        vertical-align: top;\n",
       "    }\n",
       "\n",
       "    .dataframe thead th {\n",
       "        text-align: right;\n",
       "    }\n",
       "</style>\n",
       "<table border=\"1\" class=\"dataframe\">\n",
       "  <thead>\n",
       "    <tr style=\"text-align: right;\">\n",
       "      <th>Round</th>\n",
       "      <th>Play-In</th>\n",
       "      <th>First Round</th>\n",
       "      <th>Second Round</th>\n",
       "      <th>Sweet 16</th>\n",
       "      <th>Elite Eight</th>\n",
       "      <th>Final Four</th>\n",
       "      <th>National Championship</th>\n",
       "    </tr>\n",
       "    <tr>\n",
       "      <th>SeedMatchUp</th>\n",
       "      <th></th>\n",
       "      <th></th>\n",
       "      <th></th>\n",
       "      <th></th>\n",
       "      <th></th>\n",
       "      <th></th>\n",
       "      <th></th>\n",
       "    </tr>\n",
       "  </thead>\n",
       "  <tbody>\n",
       "    <tr>\n",
       "      <th>1-10</th>\n",
       "      <td>NaN</td>\n",
       "      <td>NaN</td>\n",
       "      <td>NaN</td>\n",
       "      <td>NaN</td>\n",
       "      <td>0.20</td>\n",
       "      <td>0.00</td>\n",
       "      <td>NaN</td>\n",
       "    </tr>\n",
       "    <tr>\n",
       "      <th>1-11</th>\n",
       "      <td>NaN</td>\n",
       "      <td>NaN</td>\n",
       "      <td>NaN</td>\n",
       "      <td>NaN</td>\n",
       "      <td>0.43</td>\n",
       "      <td>NaN</td>\n",
       "      <td>NaN</td>\n",
       "    </tr>\n",
       "    <tr>\n",
       "      <th>1-12</th>\n",
       "      <td>NaN</td>\n",
       "      <td>NaN</td>\n",
       "      <td>NaN</td>\n",
       "      <td>0.00</td>\n",
       "      <td>NaN</td>\n",
       "      <td>NaN</td>\n",
       "      <td>NaN</td>\n",
       "    </tr>\n",
       "    <tr>\n",
       "      <th>1-13</th>\n",
       "      <td>NaN</td>\n",
       "      <td>NaN</td>\n",
       "      <td>NaN</td>\n",
       "      <td>0.00</td>\n",
       "      <td>NaN</td>\n",
       "      <td>NaN</td>\n",
       "      <td>NaN</td>\n",
       "    </tr>\n",
       "    <tr>\n",
       "      <th>1-16</th>\n",
       "      <td>NaN</td>\n",
       "      <td>0.01</td>\n",
       "      <td>NaN</td>\n",
       "      <td>NaN</td>\n",
       "      <td>NaN</td>\n",
       "      <td>NaN</td>\n",
       "      <td>NaN</td>\n",
       "    </tr>\n",
       "  </tbody>\n",
       "</table>\n",
       "</div>"
      ],
      "text/plain": [
       "Round        Play-In  First Round  Second Round  Sweet 16  Elite Eight  Final Four  National Championship\n",
       "SeedMatchUp                                                                                              \n",
       "1-10             NaN          NaN           NaN       NaN         0.20        0.00                    NaN\n",
       "1-11             NaN          NaN           NaN       NaN         0.43         NaN                    NaN\n",
       "1-12             NaN          NaN           NaN      0.00          NaN         NaN                    NaN\n",
       "1-13             NaN          NaN           NaN      0.00          NaN         NaN                    NaN\n",
       "1-16             NaN         0.01           NaN       NaN          NaN         NaN                    NaN"
      ]
     },
     "execution_count": 177,
     "metadata": {},
     "output_type": "execute_result"
    }
   ],
   "source": [
    "df_merged_rt[df_merged_rt['Total']>0].pivot(index = 'SeedMatchUp', columns = 'Round', values = 'UpsetRate').head()"
   ]
  },
  {
   "cell_type": "code",
   "execution_count": 178,
   "id": "815ffc66-87a9-42f0-99c0-9b2b7eae549d",
   "metadata": {},
   "outputs": [],
   "source": [
    "df_round = df_t[df_t['Upset Val'] == 1].groupby(['Round']).agg(counts=('W_Team', 'count')).reset_index()\n",
    "df_round_total = df_t.groupby(['Round']).agg(counts=('W_Team', 'count')).reset_index()\n",
    "\n",
    "df_merged_rts = df_round.merge(df_round_total, on=['Round'], how='inner')\n",
    "df_merged_rts = df_merged_rts.rename(columns={'counts_x':'Upsets', 'counts_y':'Total'})\n",
    "df_merged_rts['UpsetRate'] = df_merged_rts['Upsets']/df_merged_rts['Total']"
   ]
  },
  {
   "cell_type": "code",
   "execution_count": 179,
   "id": "3555ae79-9f23-4908-a7d3-2e274d05fb45",
   "metadata": {},
   "outputs": [
    {
     "data": {
      "text/html": [
       "<div>\n",
       "<style scoped>\n",
       "    .dataframe tbody tr th:only-of-type {\n",
       "        vertical-align: middle;\n",
       "    }\n",
       "\n",
       "    .dataframe tbody tr th {\n",
       "        vertical-align: top;\n",
       "    }\n",
       "\n",
       "    .dataframe thead th {\n",
       "        text-align: right;\n",
       "    }\n",
       "</style>\n",
       "<table border=\"1\" class=\"dataframe\">\n",
       "  <thead>\n",
       "    <tr style=\"text-align: right;\">\n",
       "      <th></th>\n",
       "      <th>Round</th>\n",
       "      <th>Upsets</th>\n",
       "      <th>Total</th>\n",
       "      <th>UpsetRate</th>\n",
       "    </tr>\n",
       "  </thead>\n",
       "  <tbody>\n",
       "    <tr>\n",
       "      <th>0</th>\n",
       "      <td>Play-In</td>\n",
       "      <td>0</td>\n",
       "      <td>46</td>\n",
       "      <td>0.00</td>\n",
       "    </tr>\n",
       "    <tr>\n",
       "      <th>1</th>\n",
       "      <td>First Round</td>\n",
       "      <td>287</td>\n",
       "      <td>1120</td>\n",
       "      <td>0.26</td>\n",
       "    </tr>\n",
       "    <tr>\n",
       "      <th>2</th>\n",
       "      <td>Second Round</td>\n",
       "      <td>162</td>\n",
       "      <td>560</td>\n",
       "      <td>0.29</td>\n",
       "    </tr>\n",
       "    <tr>\n",
       "      <th>3</th>\n",
       "      <td>Sweet 16</td>\n",
       "      <td>80</td>\n",
       "      <td>280</td>\n",
       "      <td>0.29</td>\n",
       "    </tr>\n",
       "    <tr>\n",
       "      <th>4</th>\n",
       "      <td>Elite Eight</td>\n",
       "      <td>63</td>\n",
       "      <td>140</td>\n",
       "      <td>0.45</td>\n",
       "    </tr>\n",
       "    <tr>\n",
       "      <th>5</th>\n",
       "      <td>Final Four</td>\n",
       "      <td>18</td>\n",
       "      <td>70</td>\n",
       "      <td>0.26</td>\n",
       "    </tr>\n",
       "    <tr>\n",
       "      <th>6</th>\n",
       "      <td>National Championship</td>\n",
       "      <td>7</td>\n",
       "      <td>35</td>\n",
       "      <td>0.20</td>\n",
       "    </tr>\n",
       "  </tbody>\n",
       "</table>\n",
       "</div>"
      ],
      "text/plain": [
       "                   Round  Upsets  Total  UpsetRate\n",
       "0                Play-In       0     46       0.00\n",
       "1            First Round     287   1120       0.26\n",
       "2           Second Round     162    560       0.29\n",
       "3               Sweet 16      80    280       0.29\n",
       "4            Elite Eight      63    140       0.45\n",
       "5             Final Four      18     70       0.26\n",
       "6  National Championship       7     35       0.20"
      ]
     },
     "execution_count": 179,
     "metadata": {},
     "output_type": "execute_result"
    }
   ],
   "source": [
    "df_merged_rts"
   ]
  },
  {
   "cell_type": "code",
   "execution_count": 189,
   "id": "86264076-5745-4fa1-aeee-a643ebb12bf9",
   "metadata": {},
   "outputs": [
    {
     "data": {
      "text/plain": [
       "(array([0, 1, 2, 3, 4, 5, 6]),\n",
       " [Text(0, 0, 'Play-In'),\n",
       "  Text(1, 0, 'First Round'),\n",
       "  Text(2, 0, 'Second Round'),\n",
       "  Text(3, 0, 'Sweet 16'),\n",
       "  Text(4, 0, 'Elite Eight'),\n",
       "  Text(5, 0, 'Final Four'),\n",
       "  Text(6, 0, 'National Championship')])"
      ]
     },
     "execution_count": 189,
     "metadata": {},
     "output_type": "execute_result"
    },
    {
     "data": {
      "image/png": "[encoded data removed]",
      "text/plain": [
       "<Figure size 640x480 with 1 Axes>"
      ]
     },
     "metadata": {},
     "output_type": "display_data"
    }
   ],
   "source": [
    "sns.barplot(data = df_merged_rts, \n",
    "            x='Round', \n",
    "            y='UpsetRate', \n",
    "            color='tab:blue').set_title('Number of Upsets by Tournament Round')\n",
    "plt.xticks(rotation=45)"
   ]
  },
  {
   "cell_type": "markdown",
   "id": "a7be7d50-f0a4-4816-ae6f-bbd42a18ce48",
   "metadata": {},
   "source": [
    "## First Round Upsets"
   ]
  },
  {
   "cell_type": "code",
   "execution_count": 197,
   "id": "92dc329c-3ff0-4196-a6fc-b29ae107568f",
   "metadata": {},
   "outputs": [],
   "source": [
    "df_first_rnd_upsets = df_merged_rt[(df_merged_rt['Round'] == 'First Round') & (df_merged_rt['Upsets']>0)]\n",
    "#df_first_rnd_upsets = df_first_rnd_upsets.pivot(index = 'LowerSeed', columns = 'HigherSeed', values = 'UpsetRate')"
   ]
  },
  {
   "cell_type": "code",
   "execution_count": 201,
   "id": "68dae1dc-40fc-4d2f-ad3f-f4bfb52c6bd7",
   "metadata": {},
   "outputs": [
    {
     "data": {
      "text/plain": [
       "Text(0.5, 1.0, 'Upset Rate by Seed Pair: First Round')"
      ]
     },
     "execution_count": 201,
     "metadata": {},
     "output_type": "execute_result"
    },
    {
     "data": {
      "image/png": "[encoded data removed]",
      "text/plain": [
       "<Figure size 640x480 with 1 Axes>"
      ]
     },
     "metadata": {},
     "output_type": "display_data"
    }
   ],
   "source": [
    "sns.barplot(data = df_first_rnd_upsets, \n",
    "            x='SeedMatchUp', \n",
    "            y='UpsetRate', \n",
    "            color='tab:blue').set_title('Upset Rate by Seed Pair: First Round')"
   ]
  }
 ],
 "metadata": {
  "kernelspec": {
   "display_name": "Python 3 (ipykernel)",
   "language": "python",
   "name": "python3"
  },
  "language_info": {
   "codemirror_mode": {
    "name": "ipython",
    "version": 3
   },
   "file_extension": ".py",
   "mimetype": "text/x-python",
   "name": "python",
   "nbconvert_exporter": "python",
   "pygments_lexer": "ipython3",
   "version": "3.9.13"
  }
 },
 "nbformat": 4,
 "nbformat_minor": 5
}
